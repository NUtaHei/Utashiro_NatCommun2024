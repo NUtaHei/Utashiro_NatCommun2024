{
 "cells": [
  {
   "cell_type": "code",
   "execution_count": null,
   "metadata": {
    "scrolled": true
   },
   "outputs": [],
   "source": [
    "#import\n",
    "import seaborn as sns\n",
    "from matplotlib import pyplot as plt\n",
    "import numpy as np\n",
    "import pandas as pd\n"
   ]
  },
  {
   "cell_type": "code",
   "execution_count": null,
   "metadata": {},
   "outputs": [],
   "source": [
    "#load data\n",
    "folder = '/Volumes/Elements/data_for_uploaded/'\n",
    "df=pd.read_csv(folder+'FigS.11/'+'df_ongoing.csv')"
   ]
  },
  {
   "cell_type": "code",
   "execution_count": null,
   "metadata": {},
   "outputs": [],
   "source": [
    "#Supplementary Fig. 11 b\n",
    "sns.set()\n",
    "cm = 1/2.54\n",
    "sns.set_style('ticks')\n",
    "fsize = 7\n",
    "spines = 0.5\n",
    "fig = plt.figure(figsize=(6*cm, 3*cm))\n",
    "fig.subplots_adjust(left=0.2, bottom=None, right=None, top=None, wspace=0.4, hspace=None)\n",
    "ylabel = np.arange(0,12000,5000)\n",
    "ylabel2 = np.arange(-1,2,1)\n",
    "color=['black','red']\n",
    "\n",
    "for ch, c in zip(['Control','Chrimson'],range(2)):\n",
    "    ax = fig.add_subplot(121+c)\n",
    "    sns.boxplot(x = 'session', y= 'FovF0', data = df[df['chrimson']==ch], ax = ax\n",
    "              ,showfliers=False,width=0.3, whis=[10,90], notch=False,medianprops=dict(color=\"white\",linewidth=1),color=color[c],linewidth=0.5)\n",
    "    ax.set_xlabel('Session', size = fsize)\n",
    "    ax.set_ylabel('mean    F/F0', size = fsize)\n",
    "    ax.set_xticklabels([1,2,3],fontsize=fsize)\n",
    "    ax.set_yticks(ylabel2*(10**(-16)))\n",
    "    ax.set_yticklabels(ylabel2,fontsize=fsize)\n",
    "    ax.tick_params(direction = 'inout', length = 2,pad = 1,width = 0.5)\n",
    "    ax.spines[\"bottom\"].set_linewidth(spines)\n",
    "    ax.spines[\"left\"].set_linewidth(spines)\n",
    "\n",
    "    sns.despine()\n",
    "\n"
   ]
  },
  {
   "cell_type": "code",
   "execution_count": null,
   "metadata": {},
   "outputs": [],
   "source": [
    "#Supplementary Fig. 11c, e, g, d, f, h\n",
    "current_palette=['black','red']\n",
    "ylim_count1=[0,0.11]\n",
    "ylim_count2=[0,0.05]\n",
    "ylim_count3=[0,0.025]\n",
    "ylim_count = np.array([ylim_count1,ylim_count2,ylim_count3])\n",
    "ylabel1 = np.arange(0,12,2)\n",
    "ylabel2 = np.arange(0,6,1)\n",
    "ylabel3 = np.arange(0,30,5)/10\n",
    "ylabel = np.array([ylabel1,ylabel2,ylabel3])\n",
    "\n",
    "ylim_amp1=[0,1]\n",
    "ylim_amp2=[0,1.3]\n",
    "ylim_amp3=[0,1.6]\n",
    "ylim_amp = np.array([ylim_amp1,ylim_amp2,ylim_amp3])\n",
    "amplabel1 = np.arange(0,12,2)/10\n",
    "amplabel2 = np.arange(0,14,2)/10\n",
    "amplabel3 = np.arange(0,18,2)/10\n",
    "amplabel = np.array([amplabel1,amplabel2,amplabel3])\n",
    "sns.set()\n",
    "cm = 1/2.54\n",
    "sns.set_style('ticks')\n",
    "fsize = 7\n",
    "spines = 0.5\n",
    "color=['black','red']\n",
    "for s in range(3):\n",
    "    fig = plt.figure(figsize=(6*cm, 3*cm))\n",
    "    for ch, c in zip(['Control','Chrimson'],range(2)):\n",
    "        ax1 = fig.add_subplot(1,2,c+1)\n",
    "\n",
    "        boxprops = dict(linewidth=1, color=color[c])\n",
    "\n",
    "        sns.boxplot(x = 'session', y= 'peak_counts'+str(s+1), hue = 'chrimson', data = df[df['chrimson']==ch], ax = ax1\n",
    "                    ,showfliers=False, whis=[10,90], notch=False,medianprops=dict(color=\"white\",linewidth=1),boxprops = boxprops,linewidth=0.5,whiskerprops = dict(color = \"black\") ,width=0.3)\n",
    "        sns.despine()\n",
    "        ax1.set_xlabel('Session', size = fsize)\n",
    "        ax1.set_ylabel('Frequency (/sec)', size = fsize)\n",
    "        ax1.set(ylim=ylim_count[s])\n",
    "        ax1.set_xticklabels([1,2,3],fontsize=fsize)\n",
    "        ax1.set_yticks(ylabel[s]/100)\n",
    "        ax1.set_yticklabels(ylabel[s]/100,fontsize=fsize)\n",
    "        ax1.tick_params(direction = 'inout', length = 2,pad = 1,width = 0.5)\n",
    "        ax1.spines[\"bottom\"].set_linewidth(spines)\n",
    "        ax1.spines[\"left\"].set_linewidth(spines)\n",
    "        ax1.get_legend().remove()\n",
    "        \n",
    "for s in range(3):\n",
    "    fig = plt.figure(figsize=(6*cm, 3*cm))\n",
    "    for ch, c in zip(['Control','Chrimson'],range(2)):\n",
    "        ax2 = fig.add_subplot(1,2,c+1)\n",
    "\n",
    "        boxprops = dict(linewidth=1, color=color[c])\n",
    "\n",
    "        sns.boxplot(x = 'session', y= 'peak_amplitude'+str(s+1), hue = 'chrimson', data = df[df['chrimson']==ch], ax = ax2\n",
    "                    ,showfliers=False, whis=[10,90], notch=False,medianprops=dict(color=\"white\",linewidth=1),boxprops = boxprops,linewidth=0.5,whiskerprops = dict(color = \"black\") ,width=0.3)\n",
    "        sns.despine()\n",
    "        ax2.set_xlabel('Session', size = fsize)\n",
    "        ax2.set_ylabel('Amplitude', size = fsize)\n",
    "        ax2.set(ylim=ylim_amp[s])\n",
    "        ax2.set_xticklabels([1,2,3],fontsize=fsize)\n",
    "        ax2.set_yticks(amplabel[s])\n",
    "        ax2.set_yticklabels(amplabel[s],fontsize=fsize)\n",
    "        ax2.tick_params(direction = 'inout', length = 2,pad = 1,width = 0.5)\n",
    "        ax2.spines[\"bottom\"].set_linewidth(spines)\n",
    "        ax2.spines[\"left\"].set_linewidth(spines)\n",
    "        ax2.get_legend().remove()"
   ]
  },
  {
   "cell_type": "code",
   "execution_count": null,
   "metadata": {},
   "outputs": [],
   "source": []
  }
 ],
 "metadata": {
  "kernelspec": {
   "display_name": "Python 3",
   "language": "python",
   "name": "python3"
  },
  "language_info": {
   "codemirror_mode": {
    "name": "ipython",
    "version": 3
   },
   "file_extension": ".py",
   "mimetype": "text/x-python",
   "name": "python",
   "nbconvert_exporter": "python",
   "pygments_lexer": "ipython3",
   "version": "3.7.1"
  }
 },
 "nbformat": 4,
 "nbformat_minor": 4
}
