{
 "cells": [
  {
   "cell_type": "code",
   "execution_count": null,
   "metadata": {},
   "outputs": [],
   "source": [
    "#load\n",
    "import numpy as np\n",
    "import scipy\n",
    "from scipy import stats\n",
    "import seaborn as sns\n",
    "from matplotlib import pyplot as plt\n",
    "import pandas as pd"
   ]
  },
  {
   "cell_type": "code",
   "execution_count": null,
   "metadata": {},
   "outputs": [],
   "source": [
    "#load data\n",
    "upf = '/Volumes/Elements/data_for_uploaded/'\n",
    "cells_con = np.load(upf+'FigS.15/cells_con.npy')\n",
    "cells_ch= np.load(upf+'FigS.15/cells_ch.npy')\n",
    "cl_con =np.load(upf+'FigS.15/cl_con.npy')\n",
    "cl_ch =np.load(upf+'FigS.15/cl_ch.npy')\n",
    "pos =np.load(upf +'FigS.15/pos_labels.npy',allow_pickle=True)"
   ]
  },
  {
   "cell_type": "code",
   "execution_count": null,
   "metadata": {},
   "outputs": [],
   "source": [
    "clust = 0\n",
    "control_res = cells_con[cl_con==clust].sum(axis =0)\n",
    "control_no = cells_con[cl_con==clust].shape[0]-control_res\n",
    "chrimson_res =cells_ch[cl_ch==clust].sum(axis =0)\n",
    "chrimson_no =cells_ch[cl_ch==clust].shape[0]-chrimson_res\n",
    "control_all =cl_con[cl_con==clust ].shape[0]\n",
    "chrimson_all =cl_ch[cl_ch==clust ].shape[0]\n",
    "\n",
    "#contingency table\n",
    "table = [[[control_res[0],control_no[0]],[chrimson_res[0],chrimson_no[0]]],[[control_res[1],control_no[1]],[chrimson_res[1],chrimson_no[1]]],[[control_res[2],control_no[2]],[chrimson_res[2],chrimson_no[2]]]]\n"
   ]
  },
  {
   "cell_type": "code",
   "execution_count": null,
   "metadata": {},
   "outputs": [],
   "source": [
    "per_con_res = (control_res/control_all)*100\n",
    "per_con_no = 100-((control_res/control_all)*100)\n",
    "\n",
    "per_ch_res =( chrimson_res/chrimson_all)*100\n",
    "per_ch_no = 100-((chrimson_res/chrimson_all)*100)\n",
    "\n",
    "data = pd.DataFrame({\n",
    "    'chrimson':['control']*6+['Chrimson']*6,\n",
    "    'session':[1,2,3]*4,\n",
    "    'response':[True,True,True,False,False,False]*2,\n",
    "    'percentage':np.concatenate([per_con_res,per_con_no,per_ch_res,per_ch_no]),\n",
    "    'total':[100]*12\n",
    "})\n",
    "data"
   ]
  },
  {
   "cell_type": "code",
   "execution_count": null,
   "metadata": {},
   "outputs": [],
   "source": [
    "#FigS15a,b\n",
    "vF = 6\n",
    "cm = 1/2.54\n",
    "sns.set_style('ticks')\n",
    "fsize = 6\n",
    "spines = 0.5\n",
    "ylabel = np.arange(0,100,20)\n",
    "current_palette = [sns.color_palette('flag')[2],sns.color_palette('flag')[3]]\n",
    "edge_palette = [sns.color_palette('flag')[2],sns.color_palette('flag')[3]]\n",
    "\n",
    "fig = plt.figure(figsize=(5*cm, 3*cm))\n",
    "ax = fig.add_subplot(1, 2, 1)\n",
    "\n",
    "bar1 = sns.barplot(x=\"session\",  y=\"percentage\", data=data[(data['response']==True)&(data['chrimson']=='control')], color= 'black',edgecolor = ['white'])\n",
    "sns.despine()\n",
    "#plt.ylim(0,60)\n",
    "ax.set_xticklabels([1,2,3],fontsize=fsize)\n",
    "ax.set_yticks(ylabel)\n",
    "ax.set_yticklabels(ylabel,fontsize=fsize)\n",
    "ax.set_xlabel('Session',fontsize=fsize)\n",
    "ax.set_ylabel('Responsive cells (%)',fontsize=fsize)\n",
    "ax.tick_params(direction = 'inout', length = 2,pad = 1,width = 0.5)\n",
    "ax.spines[\"bottom\"].set_linewidth(spines)\n",
    "ax.spines[\"left\"].set_linewidth(spines)\n",
    "\n",
    "for patch1 in  bar1.patches:\n",
    "    clr = patch1.get_width()\n",
    "    patch1.set_width(0.5)\n",
    "    patch1.set_x(patch1.get_x() + 0.2)\n",
    "\n",
    "ax = fig.add_subplot(1, 2, 2)\n",
    "bar2 = sns.barplot(x=\"session\",  y=\"percentage\", data=data[(data['response']==True)&(data['chrimson']=='Chrimson')],color= 'red',edgecolor = ['white'])\n",
    "sns.despine()\n",
    "\n",
    "plt.legend([],[], frameon=False)\n",
    "#plt.ylim(0,60)\n",
    "ax.set_xticklabels([1,2,3],fontsize=fsize)\n",
    "ax.set_yticks(ylabel)\n",
    "ax.set_yticklabels(ylabel,fontsize=fsize)\n",
    "ax.set_xlabel('Session',fontsize=fsize)\n",
    "ax.set_ylabel('Responsive cells (%)',fontsize=fsize)\n",
    "ax.tick_params(direction = 'inout', length = 2,pad = 1,width = 0.5)\n",
    "ax.spines[\"bottom\"].set_linewidth(spines)\n",
    "ax.spines[\"left\"].set_linewidth(spines)\n",
    "for patch2 in  bar2.patches:\n",
    "    clr = patch2.get_width()\n",
    "    patch2.set_width(0.5)\n",
    "    patch2.set_x(patch2.get_x() + 0.2)\n",
    "\n"
   ]
  }
 ],
 "metadata": {
  "kernelspec": {
   "display_name": "Python 3",
   "language": "python",
   "name": "python3"
  },
  "language_info": {
   "codemirror_mode": {
    "name": "ipython",
    "version": 3
   },
   "file_extension": ".py",
   "mimetype": "text/x-python",
   "name": "python",
   "nbconvert_exporter": "python",
   "pygments_lexer": "ipython3",
   "version": "3.7.1"
  }
 },
 "nbformat": 4,
 "nbformat_minor": 4
}
