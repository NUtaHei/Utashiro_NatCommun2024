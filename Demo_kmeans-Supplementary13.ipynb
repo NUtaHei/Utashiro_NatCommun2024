{
 "cells": [
  {
   "cell_type": "code",
   "execution_count": null,
   "metadata": {},
   "outputs": [],
   "source": [
    "#import\n",
    "import seaborn as sns\n",
    "from matplotlib import pyplot as plt\n",
    "import numpy as np\n",
    "import pandas as pd\n",
    "\n",
    "from scipy.ndimage import gaussian_filter1d\n",
    "from scipy import stats\n",
    "from scipy.stats import binned_statistic\n",
    "from sklearn.preprocessing import MinMaxScaler\n",
    "from sklearn.decomposition import PCA\n",
    "from sklearn.cluster import KMeans\n",
    "from sklearn.metrics import silhouette_score"
   ]
  },
  {
   "cell_type": "code",
   "execution_count": null,
   "metadata": {},
   "outputs": [],
   "source": [
    "#load data\n",
    "folder = '/Volumes/Elements/data_for_uploaded/'\n",
    "all_Fres =np.load(folder +'Fig.5/'+'responsive_dFovF.npy',allow_pickle=True) # responses from all layers\n",
    "\n",
    "#binned data, max bins, each session\n",
    "bin_con=[]\n",
    "bin_ch=[]\n",
    "bins = 150\n",
    "\n",
    "for session in range(3):\n",
    "    con = all_Fres[session]\n",
    "    bin_means, bin_edges, binnumber = binned_statistic(np.arange(0,300),con, statistic='mean', bins= bins)\n",
    "    bin_con.append(bin_means)\n",
    "    \n",
    "    ch = all_Fres[session+3]\n",
    "    bin_means, bin_edges, binnumber = binned_statistic(np.arange(0,300),ch, statistic='mean', bins= bins)\n",
    "    bin_ch.append(bin_means)\n",
    "\n",
    "#concatenate response\n",
    "bin_min =40\n",
    "bin_max = 70\n",
    "bin_conc_ch =np.hstack([np.array(bin_ch)[0][:,bin_min:bin_max],np.array(bin_ch)[1][:,bin_min:bin_max],np.array(bin_ch)[2][:,bin_min:bin_max]])\n",
    "bin_conc_con = np.hstack([np.array(bin_con)[0][:,bin_min:bin_max],np.array(bin_con)[1][:,bin_min:bin_max],np.array(bin_con)[2][:,bin_min:bin_max]])\n",
    "bin_all = np.concatenate([bin_conc_con,bin_conc_ch])\n",
    "\n",
    "#Scaling\n",
    "mm = MinMaxScaler()\n",
    "bin_sc = mm.fit_transform(bin_all.T).T"
   ]
  },
  {
   "cell_type": "code",
   "execution_count": null,
   "metadata": {},
   "outputs": [],
   "source": [
    "#PCA\n",
    "n_components = 4\n",
    "pca = PCA(n_components=n_components )\n",
    "bin_p = pca.fit_transform(bin_sc)"
   ]
  },
  {
   "cell_type": "code",
   "execution_count": null,
   "metadata": {},
   "outputs": [],
   "source": [
    "pca.explained_variance_ratio_.sum()"
   ]
  },
  {
   "cell_type": "code",
   "execution_count": null,
   "metadata": {},
   "outputs": [],
   "source": [
    "kmeans_kwargs = {\n",
    "    \"init\": \"k-means++\",\n",
    "    \"n_init\": 10,\n",
    "    \"max_iter\": 300,\n",
    "    \"random_state\": 42,\n",
    "}\n",
    "# silhouette coefficients for each k\n",
    "s_c = []\n",
    "for k in range(2, 11):\n",
    "    kmeans = KMeans(n_clusters=k, **kmeans_kwargs)\n",
    "    kmeans.fit(bin_p)\n",
    "    score = silhouette_score(bin_all , kmeans.labels_)\n",
    "    s_c.append(score)\n",
    "plt.plot(range(2, 11), s_c)\n",
    "plt.xticks(range(2, 11))\n",
    "plt.xlabel(\"Number of Clusters\")\n",
    "plt.ylabel(\"Silhouette Coefficient\")\n",
    "plt.show()"
   ]
  },
  {
   "cell_type": "code",
   "execution_count": null,
   "metadata": {},
   "outputs": [],
   "source": [
    "#perform k means clustering\n",
    "n_clusters=2\n",
    "kmeans = KMeans(\n",
    "    init=\"k-means++\",\n",
    "    n_clusters=n_clusters,\n",
    "    n_init=1000,\n",
    "    max_iter=500,\n",
    "    random_state=42\n",
    ")\n",
    "\n",
    "kmeans.fit(bin_p)\n",
    "\n",
    "cl=kmeans.labels_\n",
    "cl_con = cl[0:int(len(bin_con[0]))]\n",
    "cl_ch = cl[int(len(bin_con[0])):]"
   ]
  },
  {
   "cell_type": "code",
   "execution_count": null,
   "metadata": {},
   "outputs": [],
   "source": [
    "c0 = np.array(bin_con)[0][cl_con ==0].mean(axis=0)[50:100].sum()\n",
    "c1=np.array(bin_con)[1][cl_con ==0].mean(axis=0)[50:100].sum()\n",
    "if c0>c1:\n",
    "    clus_act = 0\n",
    "    clus_inact =1\n",
    "else:\n",
    "    clus_act = 1\n",
    "    clus_inact =0"
   ]
  },
  {
   "cell_type": "code",
   "execution_count": null,
   "metadata": {},
   "outputs": [],
   "source": [
    "#plot heatmap from 100 cells\n",
    "hmax = 0.08\n",
    "hmin =-0.08\n",
    "fig = plt.figure(#figsize=(7*cm, 4*cm)\n",
    ")\n",
    "cbar = [False,False,True]\n",
    "cbar_ax = fig.add_axes([.91, .3, .03, .4])\n",
    "yticklabels = [50,False,False]\n",
    "ylabel=['neuron ID',None,None]\n",
    "fig.subplots_adjust(left=None, bottom=0.1, right=None, top=None, wspace=0.1, hspace=0)\n",
    "for session in range(3):\n",
    "    ax = fig.add_subplot(1,3,session+1)\n",
    "    plt.title('control-session'+str(session+1))\n",
    "    mask = np.zeros_like(np.array(bin_con)[session], dtype=np.bool)\n",
    "    mask[:,49] = True\n",
    "    sns.heatmap(np.concatenate([np.array(bin_con)[session][cl_con ==clus_act][10:75],np.array(bin_con)[session][cl_con ==clus_inact][:35]]),cmap=\"icefire\",vmax=hmax,vmin=hmin,cbar=cbar[session],cbar_ax=cbar_ax,yticklabels =yticklabels[session])\n",
    "    ax.tick_params(left=False, bottom=False)\n",
    "    ax.set(xlabel='sec. from vF')\n",
    "    ax.set_xticks([43,51,60,97])\n",
    "    ax.set_xticklabels([-1,0,1,5]#,fontsize=fsize\n",
    "                      )\n",
    "    ax.set(xlim = [40,100])\n",
    "    ax.set(ylabel=ylabel[session])\n",
    "    ax.set_yticklabels(np.arange(0,350,50)#,fontsize=fsize\n",
    "                      )\n",
    "    ax.axhline(65,color = 'white',linestyle='-',linewidth=2.5)\n",
    "    ax.axvline(50,color = 'white',linestyle='-',linewidth=1)\n",
    "    ax.axvline(60,color = 'white',linestyle='--',linewidth=1)\n",
    "\n",
    "fig = plt.figure(#figsize=(7*cm, 4*cm)\n",
    ")\n",
    "cbar_ax = fig.add_axes([.91, .3, .03, .4])\n",
    "fig.subplots_adjust(left=None, bottom=0.1, right=None, top=None, wspace=0.1, hspace=0)\n",
    "for session in range(3):\n",
    "    ax = fig.add_subplot(1,3,session+1)\n",
    "    plt.title('Chrim-session'+str(session+1))\n",
    "    sns.heatmap(np.concatenate([np.array(bin_ch)[session][cl_ch ==clus_act][10:75],np.array(bin_ch)[session][cl_ch ==clus_inact][10:45]]),cmap=\"icefire\",vmax=hmax,vmin=hmin,cbar=cbar[session],cbar_ax=cbar_ax,yticklabels =yticklabels[session])\n",
    "    ax.tick_params(left=False, bottom=False)\n",
    "    ax.set(xlabel='sec. from vF')\n",
    "    ax.set_xticks([43,51,60,97])\n",
    "    ax.set_xticklabels([-1,0,1,5]#,fontsize=fsize\n",
    "                      )\n",
    "    ax.set(xlim = [40,100])\n",
    "    ax.set(ylabel=ylabel[session])\n",
    "    ax.set_yticklabels(np.arange(0,350,50)#,fontsize=fsize\n",
    "                      )\n",
    "    ax.axhline(65,color = 'white',linestyle='-',linewidth=2.5)\n",
    "    ax.axvline(50,color = 'white',linestyle='-',linewidth=1)\n",
    "    ax.axvline(60,color = 'white',linestyle='--',linewidth=1)\n"
   ]
  },
  {
   "cell_type": "code",
   "execution_count": null,
   "metadata": {},
   "outputs": [],
   "source": []
  }
 ],
 "metadata": {
  "kernelspec": {
   "display_name": "Python 3",
   "language": "python",
   "name": "python3"
  },
  "language_info": {
   "codemirror_mode": {
    "name": "ipython",
    "version": 3
   },
   "file_extension": ".py",
   "mimetype": "text/x-python",
   "name": "python",
   "nbconvert_exporter": "python",
   "pygments_lexer": "ipython3",
   "version": "3.7.1"
  }
 },
 "nbformat": 4,
 "nbformat_minor": 4
}
