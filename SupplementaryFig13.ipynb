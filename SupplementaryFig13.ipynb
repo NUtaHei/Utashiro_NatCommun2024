{
 "cells": [
  {
   "cell_type": "code",
   "execution_count": null,
   "metadata": {},
   "outputs": [],
   "source": [
    "#import\n",
    "import seaborn as sns\n",
    "from matplotlib import pyplot as plt\n",
    "import numpy as np\n",
    "import pandas as pd\n"
   ]
  },
  {
   "cell_type": "code",
   "execution_count": null,
   "metadata": {},
   "outputs": [],
   "source": [
    "folder = '/Volumes/Elements/data_for_uploaded/'\n",
    "hs_cont = np.load(folder +'Fig.S13/hist_all_control.npy')\n",
    "hs_cont_clst =np.load(folder +'Fig.S13/hist_all_control_clst.npy')\n",
    "hs_chrim =np.load(folder +'Fig.S13/hist_all_chrimson.npy')\n",
    "hs_chrim_clst =np.load(folder +'Fig.S13/hist_all_chrimson_clst.npy')\n",
    "cl_con = np.load(folder +'Fig.S13/clst_con307.npy')\n",
    "cl_ch = np.load(folder +'Fig.S13/clst_ch397.npy')"
   ]
  },
  {
   "cell_type": "code",
   "execution_count": null,
   "metadata": {},
   "outputs": [],
   "source": [
    "def draw_hm_clst(data,cl_label,hmax,hmin,title):\n",
    "    cbar = [False,False,True]\n",
    "    cbar_ax = fig.add_axes([.91, .3, .03, .4])\n",
    "    yticklabels = [50,False,False]\n",
    "    ylabel=['neuron ID',None,None]\n",
    "    fig.subplots_adjust(left=None, bottom=0.1, right=None, top=None, wspace=0.1, hspace=0)\n",
    "    for session in range(3):\n",
    "        ax = fig.add_subplot(1,3,session+1)\n",
    "        plt.title(title +'-session'+str(session+1))\n",
    "        mask = np.zeros_like(data[session], dtype=np.bool)\n",
    "        mask[:,49] = True\n",
    "        sns.heatmap(np.concatenate([data[session][cl_label ==clus_act],data[session][cl_label==clus_inact]]),cmap=\"icefire\",vmax=hmax,vmin=hmin,cbar=cbar[session],cbar_ax=cbar_ax,yticklabels =yticklabels[session])\n",
    "        ax.tick_params(left=False, bottom=False)\n",
    "        ax.set(xlabel='sec. from vF')\n",
    "        ax.set_xticks([43,51,60,97])\n",
    "        ax.set_xticklabels([-1,0,1,5]#,fontsize=fsize\n",
    "                          )\n",
    "        ax.set(xlim = [40,100])\n",
    "        ax.set(ylabel=ylabel[session])\n",
    "        ax.set_yticklabels(np.arange(0,350,50)#,fontsize=fsize\n",
    "                          )\n",
    "        #ax.axhline(65,color = 'white',linestyle='-',linewidth=2.5)\n",
    "        ax.axvline(50,color = 'white',linestyle='-',linewidth=1)\n",
    "        ax.axvline(60,color = 'white',linestyle='--',linewidth=1)\n",
    "    return fig"
   ]
  },
  {
   "cell_type": "code",
   "execution_count": null,
   "metadata": {},
   "outputs": [],
   "source": [
    "#FigS13a, b\n",
    "clus_act = 0\n",
    "clus_inact = 1\n",
    "hmax = 0.1\n",
    "hmin =-0.1\n",
    "fig =plt.figure()\n",
    "fig =draw_hm_clst(hs_cont,hs_cont_clst,hmax,hmin,'control')\n",
    "\n",
    "fig =plt.figure()\n",
    "fig =draw_hm_clst(hs_chrim,hs_chrim_clst,hmax,hmin,'Chrim')\n"
   ]
  },
  {
   "cell_type": "code",
   "execution_count": null,
   "metadata": {},
   "outputs": [],
   "source": [
    "#number of cells in each cluster\n",
    "cluster_n_con = []\n",
    "cluster_n_ch = []\n",
    "for i in [clus_act,clus_inact]:\n",
    "    cluster_n_con.extend([(cl_con==i).sum()])\n",
    "    cluster_n_ch.extend([(cl_ch==i).sum()])"
   ]
  },
  {
   "cell_type": "code",
   "execution_count": null,
   "metadata": {},
   "outputs": [],
   "source": [
    "n_clusters=2\n",
    "p_con = np.zeros([n_clusters])\n",
    "p_ch= np.zeros([n_clusters])\n",
    "for i in range(n_clusters):\n",
    "    p_con[i] = (cluster_n_con[i]/sum(cluster_n_con))*100\n",
    "    p_ch[i] = (cluster_n_ch[i]/sum(cluster_n_ch))*100"
   ]
  },
  {
   "cell_type": "code",
   "execution_count": null,
   "metadata": {},
   "outputs": [],
   "source": [
    "data = pd.DataFrame({\n",
    "    'chrimson':['control']*n_clusters+['Chrimson']*n_clusters,\n",
    "    'cluster':np.concatenate([np.arange(1,n_clusters+1,1),np.arange(1,n_clusters+1,1)]),\n",
    "    'percentage':np.concatenate([p_con,p_ch]),\n",
    "})\n",
    "data"
   ]
  },
  {
   "cell_type": "code",
   "execution_count": null,
   "metadata": {},
   "outputs": [],
   "source": [
    "#FigS13c\n",
    "cm = 1/2.54\n",
    "fsize = 7\n",
    "vF = 6\n",
    "ylabel = np.arange(0,70,10)\n",
    "fig = plt.figure(figsize=(4*cm, 3*cm))\n",
    "ax = fig.add_subplot(1, 1, 1)\n",
    "palette =['white','orange','white','darkblue']\n",
    "\n",
    "bar = sns.barplot(x=\"cluster\",  y=\"percentage\", data=data, hue = 'chrimson',edgecolor = ['orange','darkblue' ],linewidth=0.5)\n",
    "for bars, colors in zip(ax.containers, (palette[0::2], palette[1::2])):\n",
    "     for bar, color in zip(bars, colors):\n",
    "            bar.set_facecolor(color)\n",
    "ax.set_xticklabels(['activated','inactivated'],fontsize=fsize)\n",
    "ax.set_yticks(ylabel)\n",
    "ax.set_yticklabels(ylabel,fontsize=fsize)\n",
    "ax.tick_params(direction = 'inout', length = 3,pad = 1,width = 0.5)\n",
    "ax.set(ylabel=None)\n",
    "ax.set(xlabel=None)\n",
    "#ax.spines[\"bottom\"].set_linewidth(spines)\n",
    "#ax.spines[\"left\"].set_linewidth(spines)\n",
    "\n",
    "sns.despine()\n",
    "plt.legend([],[], frameon=False)\n"
   ]
  },
  {
   "cell_type": "code",
   "execution_count": null,
   "metadata": {},
   "outputs": [],
   "source": []
  }
 ],
 "metadata": {
  "kernelspec": {
   "display_name": "Python 3",
   "language": "python",
   "name": "python3"
  },
  "language_info": {
   "codemirror_mode": {
    "name": "ipython",
    "version": 3
   },
   "file_extension": ".py",
   "mimetype": "text/x-python",
   "name": "python",
   "nbconvert_exporter": "python",
   "pygments_lexer": "ipython3",
   "version": "3.7.1"
  }
 },
 "nbformat": 4,
 "nbformat_minor": 4
}
