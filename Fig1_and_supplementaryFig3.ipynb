{
 "cells": [
  {
   "cell_type": "code",
   "execution_count": null,
   "metadata": {},
   "outputs": [],
   "source": [
    "#import \n",
    "import glob\n",
    "import seaborn as sns\n",
    "from matplotlib import pyplot as plt\n",
    "import numpy as np\n",
    "import pandas as pd\n",
    "from scipy import stats"
   ]
  },
  {
   "cell_type": "code",
   "execution_count": null,
   "metadata": {},
   "outputs": [],
   "source": [
    "projections='PrL-ACC' # Fig.1 mn\n",
    "#projections='ACC-PrL' #Supplementary Fig. 3 mn\n",
    "\n",
    "if projections=='PrL-ACC':\n",
    "    samples = [11215, 11217,11260] # Fig.1 mn\n",
    "else:\n",
    "    samples =[11248,11251,11263] #Supplementary Fig. 3 mn"
   ]
  },
  {
   "cell_type": "code",
   "execution_count": null,
   "metadata": {},
   "outputs": [],
   "source": [
    "# load data\n",
    "folder='/Volumes/Elements/data_for_uploaded/'\n",
    "fpath = glob.glob(folder+'Fig.1/'+projections+'_df_projections.csv')\n",
    "print(fpath)\n",
    "df = pd.read_csv(fpath[0])\n",
    "\n",
    "fpL1 = np.load(folder+'Fig.1/'+'file_pathL1.npy')"
   ]
  },
  {
   "cell_type": "code",
   "execution_count": null,
   "metadata": {},
   "outputs": [],
   "source": [
    "#show data from all slices, mean and SD\n",
    "#GABAergic projections\n",
    "\n",
    "xlabel=['L1','L2/3','L5','L6']\n",
    "fig=plt.figure()\n",
    "ax=fig.add_subplot(1, 1, 1)\n",
    "sns.barplot(data =df[(df['color']=='g')&~(df['roi']==0)], x='roi', y='dens',color='black',ci='sd')\n",
    "sns.stripplot(data =df[(df['color']=='g')&~(df['roi']==0)], x='roi', y='dens',color='gray',edgecolor='white', jitter=False)\n",
    "ax.set_xticklabels(xlabel)\n",
    "ax.set_xlabel(None)\n",
    "ax.set_ylabel('Length per area (/µm)' )\n",
    "\n",
    "#excitatory projections\n",
    "fig=plt.figure()\n",
    "ax=fig.add_subplot(1, 1, 1)\n",
    "sns.barplot(data =df[(df['color']=='r')&~(df['roi']==0)], x='roi', y='dens',color='white',edgecolor='black',ci='sd')\n",
    "sns.stripplot(data =df[(df['color']=='r')&~(df['roi']==0)], x='roi', y='dens',color='gray',edgecolor='white', jitter=False)\n",
    "ax.set_xticklabels(xlabel)\n",
    "ax.set_xlabel(None)\n",
    "ax.set_ylabel('Length per area (/µm)' )\n"
   ]
  },
  {
   "cell_type": "code",
   "execution_count": null,
   "metadata": {},
   "outputs": [],
   "source": [
    "# calculate mean\n",
    "mDens=[]\n",
    "mRoi=[]\n",
    "mSam=[]\n",
    "mProp=[]\n",
    "mProj=[]\n",
    "mCol=[]\n",
    "for c in ['g','r']:\n",
    "    for s in samples:\n",
    "        for i in range(1,5):\n",
    "            mSam.extend([s])\n",
    "            mRoi.extend([i])\n",
    "            mDens.extend([df[(df['samp']==s)&(df['color']==c)&(df['roi']==i)]['dens'].mean()])\n",
    "            mCol.extend([c])\n",
    "mDens=np.array(mDens)*1000\n",
    "df2=pd.DataFrame({\n",
    "    'mSam':mSam,\n",
    "    'mRoi':mRoi,\n",
    "    'mDens':mDens,\n",
    "    'mCol':mCol\n",
    "})"
   ]
  },
  {
   "cell_type": "code",
   "execution_count": null,
   "metadata": {},
   "outputs": [],
   "source": [
    "#show data from each mouse, mean and SD\n",
    "#GABAergic projections\n",
    "\n",
    "xlabel=['L1','L2/3','L5','L6']\n",
    "fig =plt.figure()\n",
    "ax = fig.add_subplot(1, 1, 1)\n",
    "sns.barplot(data =df2[(df2['mCol']=='g')], x='mRoi', y='mDens',ci='sd',color='black')\n",
    "sns.stripplot(data =df2[(df2['mCol']=='g')], x='mRoi', y='mDens',color='gray',edgecolor='white', jitter=False)\n",
    "ax.set_xticklabels(xlabel)\n",
    "ax.set_xlabel(None)\n",
    "ax.set_ylabel('Length per 10^3 area' )\n",
    "\n",
    "#Excitatory projections\n",
    "fig=plt.figure()\n",
    "ax = fig.add_subplot(1, 1, 1)\n",
    "sns.barplot(data =df2[(df2['mCol']=='r')], x='mRoi', y='mDens',ci='sd',color='white',edgecolor='black')\n",
    "sns.stripplot(data =df2[(df2['mCol']=='r')], x='mRoi', y='mDens',color='gray',edgecolor='white', jitter=False)\n",
    "ax.set_xticklabels(xlabel)\n",
    "ax.set_xlabel(None)\n",
    "ax.set_ylabel('Length per 10^3 area')"
   ]
  },
  {
   "cell_type": "code",
   "execution_count": null,
   "metadata": {},
   "outputs": [],
   "source": []
  },
  {
   "cell_type": "markdown",
   "metadata": {},
   "source": [
    "# Fig. 1 projections in each layer"
   ]
  },
  {
   "cell_type": "code",
   "execution_count": null,
   "metadata": {},
   "outputs": [],
   "source": [
    "#calculate mean and SEM \n",
    "gmean=[df2[(df2['mCol']=='g')&(df2['mRoi']==i)]['mDens'].mean() for i in range(1,5)]\n",
    "gsem=[df2[(df2['mCol']=='g')&(df2['mRoi']==i)]['mDens'].sem() for i in range(1,5)]\n",
    "rmean=[df2[(df2['mCol']=='r')&(df2['mRoi']==i)]['mDens'].mean() for i in range(1,5)]\n",
    "rsem=[df2[(df2['mCol']=='r')&(df2['mRoi']==i)]['mDens'].sem() for i in range(1,5)]"
   ]
  },
  {
   "cell_type": "code",
   "execution_count": null,
   "metadata": {},
   "outputs": [],
   "source": [
    "def change_width(ax, w) :\n",
    "    for patch in ax.patches :\n",
    "        current_width = patch.get_width()\n",
    "        diff = current_width - w\n",
    "        # change the bar width\n",
    "        patch.set_width(w)\n",
    "        # recenter \n",
    "        patch.set_x(patch.get_x() + diff * .5)"
   ]
  },
  {
   "cell_type": "code",
   "execution_count": null,
   "metadata": {},
   "outputs": [],
   "source": [
    "# Fig.1 and supplementary Fig. 3, show mean and SEM  \n",
    "#GABAergic projections\n",
    "\n",
    "cm = 1/2.54\n",
    "fsize = 7\n",
    "fig = plt.figure(figsize=(5*cm, 3*cm))\n",
    "ax = fig.add_subplot(1, 1, 1)\n",
    "xlabel=['L1','L2/3','L5','L6']\n",
    "if projections=='PrL-ACC':\n",
    "    ylabel=np.arange(0,25,5)\n",
    "else:\n",
    "    ylabel=np.arange(0,35,5)\n",
    "ax.errorbar(xlabel, gmean, yerr=gsem , fmt='none',color='gray',capsize=3)\n",
    "sns.barplot(data =df2[(df2['mCol']=='g')], x='mRoi', y='mDens',ci=None,color='black',linewidth=0.5)\n",
    "sns.stripplot(data =df2[(df2['mCol']=='g')], x='mRoi', y='mDens',color='white',edgecolor='gray',size = 3,linewidth=0.5, jitter=False)\n",
    "change_width(ax, 0.6)\n",
    "ax.set_xlabel(None)\n",
    "ax.set_ylabel('Length per 10^3 area', size = fsize )\n",
    "ax.set_xticklabels(xlabel,fontsize=fsize )\n",
    "ax.set_yticks(ylabel)\n",
    "ax.set_yticklabels(ylabel,fontsize=fsize )\n",
    "sns.despine()\n",
    "ax.tick_params(direction = 'inout', length = 3,pad = 1,width = 0.5)\n",
    "\n",
    "\n",
    "#Excitatory projections\n",
    "\n",
    "fig = plt.figure(figsize=(5*cm, 3*cm))\n",
    "ax = fig.add_subplot(1, 1, 1)\n",
    "xlabel=['L1','L2/3','L5','L6']\n",
    "if projections=='PrL-ACC':\n",
    "    ylabel=np.arange(0,100,20)\n",
    "else:    \n",
    "    ylabel=np.arange(0,210,30)\n",
    "ax.errorbar(xlabel, rmean, yerr=rsem , fmt='none',color='gray',capsize=3)\n",
    "sns.barplot(data =df2[(df2['mCol']=='r')], x='mRoi', y='mDens',ci=None,color='white',edgecolor='black',linewidth=0.5)\n",
    "sns.stripplot(data =df2[(df2['mCol']=='r')], x='mRoi', y='mDens',color='white',edgecolor='gray',size = 3,linewidth=0.5, jitter=False)\n",
    "change_width(ax, 0.6)\n",
    "ax.set_xlabel(None)\n",
    "ax.set_ylabel('Length per 10^3 area', size = fsize )\n",
    "ax.set_xticklabels(xlabel,fontsize=fsize )\n",
    "ax.set_yticks(ylabel)\n",
    "ax.set_yticklabels(ylabel,fontsize=fsize )\n",
    "sns.despine()\n",
    "ax.tick_params(direction = 'inout', length = 3,pad = 1,width = 0.5)\n"
   ]
  },
  {
   "cell_type": "markdown",
   "metadata": {},
   "source": [
    "# Analyze L1 projections"
   ]
  },
  {
   "cell_type": "code",
   "execution_count": null,
   "metadata": {},
   "outputs": [],
   "source": [
    "# load data\n",
    "[L1a_g,L1b_g,L1a_r,L1b_r]=[np.load(fpL1[i]) for i in range(4)]\n",
    "\n",
    "#calculate proportion of projections in L1a \n",
    "g_a =L1a_g/(L1a_g+L1b_g)\n",
    "g_b=L1b_g/(L1a_g+L1b_g)\n",
    "r_a =L1a_r/(L1a_r+L1b_r)\n",
    "r_b=L1b_r/(L1a_r+L1b_r)"
   ]
  },
  {
   "cell_type": "code",
   "execution_count": null,
   "metadata": {},
   "outputs": [],
   "source": [
    "#calculate mean and SEM\n",
    "ga =np.array(np.split(g_a,3)).mean(axis=1)\n",
    "ra=np.array(np.split(r_a,3)).mean(axis=1)\n",
    "gb =np.array(np.split(g_b,3)).mean(axis=1)\n",
    "rb=np.array(np.split(r_b,3)).mean(axis=1)\n",
    "gmean =ga.mean()\n",
    "rmean =ra.mean()\n",
    "gsem = stats.sem(ga)\n",
    "rsem = stats.sem(ra)"
   ]
  },
  {
   "cell_type": "code",
   "execution_count": null,
   "metadata": {},
   "outputs": [],
   "source": [
    "df3=pd.DataFrame({\n",
    "    'animals':[i for i in samples]*2,\n",
    "    'color':['g']*3+['r']*3,\n",
    "    'percent':np.concatenate([ga,ra])\n",
    "})"
   ]
  },
  {
   "cell_type": "code",
   "execution_count": null,
   "metadata": {},
   "outputs": [],
   "source": [
    "#Fig. 1o or Supplementary Fig. 3o\n",
    "cm = 1/2.54\n",
    "fsize = 7\n",
    "fig = plt.figure(figsize=(3*cm, 3*cm))\n",
    "#fig=plt.figure()\n",
    "ax = fig.add_subplot(1, 1, 1)\n",
    "xlabel=['GABA','Excitatory']\n",
    "ylabel=np.arange(0,125,25)\n",
    "ax.axhline(0.5,color = 'grey',linestyle='--',linewidth=1)\n",
    "sns.barplot(data =df3, x='color', y='percent',color='black',ci=None,linewidth=0.5,palette = {\"g\": \"black\", \"r\": \"white\"},edgecolor='black')\n",
    "sns.stripplot(data =df3, x='color', y='percent',color='white',edgecolor='gray',size = 3,linewidth=0.5, jitter=False)\n",
    "ax.errorbar(['g','r'], [gmean,rmean], yerr=[gsem,rsem] , fmt='none',color='gray',capsize=3)\n",
    "\n",
    "ax.set_xlabel(None)\n",
    "change_width(ax, 0.4)\n",
    "ax.set_ylabel('L1a (%)', size = fsize )\n",
    "ax.set_xticklabels(xlabel,fontsize=fsize )\n",
    "ax.set_yticks(ylabel/100)\n",
    "ax.set_yticklabels(ylabel,fontsize=fsize )\n",
    "sns.despine()\n",
    "ax.tick_params(direction = 'inout', length = 3,pad = 1,width = 0.5)\n"
   ]
  },
  {
   "cell_type": "code",
   "execution_count": null,
   "metadata": {},
   "outputs": [],
   "source": []
  }
 ],
 "metadata": {
  "kernelspec": {
   "display_name": "Python 3",
   "language": "python",
   "name": "python3"
  },
  "language_info": {
   "codemirror_mode": {
    "name": "ipython",
    "version": 3
   },
   "file_extension": ".py",
   "mimetype": "text/x-python",
   "name": "python",
   "nbconvert_exporter": "python",
   "pygments_lexer": "ipython3",
   "version": "3.7.1"
  }
 },
 "nbformat": 4,
 "nbformat_minor": 4
}
